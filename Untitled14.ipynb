{
  "nbformat": 4,
  "nbformat_minor": 0,
  "metadata": {
    "colab": {
      "provenance": [],
      "authorship_tag": "ABX9TyMkOYoV2H0JoHoTngNz0fjX",
      "include_colab_link": true
    },
    "kernelspec": {
      "name": "python3",
      "display_name": "Python 3"
    },
    "language_info": {
      "name": "python"
    }
  },
  "cells": [
    {
      "cell_type": "markdown",
      "metadata": {
        "id": "view-in-github",
        "colab_type": "text"
      },
      "source": [
        "<a href=\"https://colab.research.google.com/github/Trinaaaa29/katrina-/blob/main/Untitled14.ipynb\" target=\"_parent\"><img src=\"https://colab.research.google.com/assets/colab-badge.svg\" alt=\"Open In Colab\"/></a>"
      ]
    },
    {
      "cell_type": "code",
      "execution_count": null,
      "metadata": {
        "id": "ZGbXSbbK1NbE"
      },
      "outputs": [],
      "source": [
        "import pandas as pd"
      ]
    },
    {
      "cell_type": "code",
      "source": [
        "df = pd.read_csv('https://raw.githubusercontent.com/Trinaaaa29/Katrina_29/main/incom2024_delay_example_dataset.csv')"
      ],
      "metadata": {
        "id": "yktDjA54cksJ"
      },
      "execution_count": null,
      "outputs": []
    },
    {
      "cell_type": "code",
      "source": [
        "df.head()"
      ],
      "metadata": {
        "colab": {
          "base_uri": "https://localhost:8080/",
          "height": 429
        },
        "id": "os1jrFv0eraY",
        "outputId": "4ed5a6fa-fd42-4d7c-efce-99e440dfb7c8"
      },
      "execution_count": null,
      "outputs": [
        {
          "output_type": "execute_result",
          "data": {
            "text/plain": [
              "  payment_type  profit_per_order  sales_per_customer  category_id  \\\n",
              "0        DEBIT         34.448338            92.49099          9.0   \n",
              "1     TRANSFER         91.193540           181.99008         48.0   \n",
              "2        DEBIT          8.313806            89.96643         46.0   \n",
              "3     TRANSFER        -89.463196            99.15065         17.0   \n",
              "4        DEBIT         44.722590           170.97824         48.0   \n",
              "\n",
              "          category_name customer_city customer_country  customer_id  \\\n",
              "0      Cardio Equipment        Caguas      Puerto Rico   12097.6830   \n",
              "1          Water Sports   Albuquerque          EE. UU.    5108.1045   \n",
              "2  Indoor/Outdoor Games      Amarillo      Puerto Rico    4293.4478   \n",
              "3                Cleats        Caguas      Puerto Rico     546.5306   \n",
              "4          Water Sports       Peabody          EE. UU.    1546.3980   \n",
              "\n",
              "  customer_segment customer_state  ...     order_region  \\\n",
              "0         Consumer             PR  ...   Western Europe   \n",
              "1         Consumer             CA  ...    South America   \n",
              "2         Consumer             PR  ...   Western Europe   \n",
              "3         Consumer             PR  ...  Central America   \n",
              "4         Consumer             CA  ...  Central America   \n",
              "\n",
              "                  order_state order_status  product_card_id  \\\n",
              "0                      Vienna     COMPLETE            191.0   \n",
              "1                Buenos Aires      PENDING           1073.0   \n",
              "2  Nord-Pas-de-Calais-Picardy     COMPLETE           1014.0   \n",
              "3                   Santa Ana   PROCESSING            365.0   \n",
              "4                    Illinois     COMPLETE           1073.0   \n",
              "\n",
              "   product_category_id                       product_name product_price  \\\n",
              "0                  9.0  Nike Men's Free 5.0+ Running Shoe         99.99   \n",
              "1                 48.0        Pelican Sunstream 100 Kayak        199.99   \n",
              "2                 46.0   O'Brien Men's Neoprene Life Vest         49.98   \n",
              "3                 17.0   Perfect Fitness Perfect Rip Deck         59.99   \n",
              "4                 48.0        Pelican Sunstream 100 Kayak        199.99   \n",
              "\n",
              "               shipping_date   shipping_mode label  \n",
              "0  2015-08-13 00:00:00+01:00  Standard Class    -1  \n",
              "1  2017-04-09 00:00:00+01:00  Standard Class    -1  \n",
              "2  2015-03-18 00:00:00+00:00    Second Class     1  \n",
              "3  2017-03-18 00:00:00+00:00    Second Class     0  \n",
              "4  2015-03-30 00:00:00+01:00  Standard Class     1  \n",
              "\n",
              "[5 rows x 41 columns]"
            ],
            "text/html": [
              "\n",
              "  <div id=\"df-ebbacf88-0ae3-4ac8-bc26-ba7f051be7c9\" class=\"colab-df-container\">\n",
              "    <div>\n",
              "<style scoped>\n",
              "    .dataframe tbody tr th:only-of-type {\n",
              "        vertical-align: middle;\n",
              "    }\n",
              "\n",
              "    .dataframe tbody tr th {\n",
              "        vertical-align: top;\n",
              "    }\n",
              "\n",
              "    .dataframe thead th {\n",
              "        text-align: right;\n",
              "    }\n",
              "</style>\n",
              "<table border=\"1\" class=\"dataframe\">\n",
              "  <thead>\n",
              "    <tr style=\"text-align: right;\">\n",
              "      <th></th>\n",
              "      <th>payment_type</th>\n",
              "      <th>profit_per_order</th>\n",
              "      <th>sales_per_customer</th>\n",
              "      <th>category_id</th>\n",
              "      <th>category_name</th>\n",
              "      <th>customer_city</th>\n",
              "      <th>customer_country</th>\n",
              "      <th>customer_id</th>\n",
              "      <th>customer_segment</th>\n",
              "      <th>customer_state</th>\n",
              "      <th>...</th>\n",
              "      <th>order_region</th>\n",
              "      <th>order_state</th>\n",
              "      <th>order_status</th>\n",
              "      <th>product_card_id</th>\n",
              "      <th>product_category_id</th>\n",
              "      <th>product_name</th>\n",
              "      <th>product_price</th>\n",
              "      <th>shipping_date</th>\n",
              "      <th>shipping_mode</th>\n",
              "      <th>label</th>\n",
              "    </tr>\n",
              "  </thead>\n",
              "  <tbody>\n",
              "    <tr>\n",
              "      <th>0</th>\n",
              "      <td>DEBIT</td>\n",
              "      <td>34.448338</td>\n",
              "      <td>92.49099</td>\n",
              "      <td>9.0</td>\n",
              "      <td>Cardio Equipment</td>\n",
              "      <td>Caguas</td>\n",
              "      <td>Puerto Rico</td>\n",
              "      <td>12097.6830</td>\n",
              "      <td>Consumer</td>\n",
              "      <td>PR</td>\n",
              "      <td>...</td>\n",
              "      <td>Western Europe</td>\n",
              "      <td>Vienna</td>\n",
              "      <td>COMPLETE</td>\n",
              "      <td>191.0</td>\n",
              "      <td>9.0</td>\n",
              "      <td>Nike Men's Free 5.0+ Running Shoe</td>\n",
              "      <td>99.99</td>\n",
              "      <td>2015-08-13 00:00:00+01:00</td>\n",
              "      <td>Standard Class</td>\n",
              "      <td>-1</td>\n",
              "    </tr>\n",
              "    <tr>\n",
              "      <th>1</th>\n",
              "      <td>TRANSFER</td>\n",
              "      <td>91.193540</td>\n",
              "      <td>181.99008</td>\n",
              "      <td>48.0</td>\n",
              "      <td>Water Sports</td>\n",
              "      <td>Albuquerque</td>\n",
              "      <td>EE. UU.</td>\n",
              "      <td>5108.1045</td>\n",
              "      <td>Consumer</td>\n",
              "      <td>CA</td>\n",
              "      <td>...</td>\n",
              "      <td>South America</td>\n",
              "      <td>Buenos Aires</td>\n",
              "      <td>PENDING</td>\n",
              "      <td>1073.0</td>\n",
              "      <td>48.0</td>\n",
              "      <td>Pelican Sunstream 100 Kayak</td>\n",
              "      <td>199.99</td>\n",
              "      <td>2017-04-09 00:00:00+01:00</td>\n",
              "      <td>Standard Class</td>\n",
              "      <td>-1</td>\n",
              "    </tr>\n",
              "    <tr>\n",
              "      <th>2</th>\n",
              "      <td>DEBIT</td>\n",
              "      <td>8.313806</td>\n",
              "      <td>89.96643</td>\n",
              "      <td>46.0</td>\n",
              "      <td>Indoor/Outdoor Games</td>\n",
              "      <td>Amarillo</td>\n",
              "      <td>Puerto Rico</td>\n",
              "      <td>4293.4478</td>\n",
              "      <td>Consumer</td>\n",
              "      <td>PR</td>\n",
              "      <td>...</td>\n",
              "      <td>Western Europe</td>\n",
              "      <td>Nord-Pas-de-Calais-Picardy</td>\n",
              "      <td>COMPLETE</td>\n",
              "      <td>1014.0</td>\n",
              "      <td>46.0</td>\n",
              "      <td>O'Brien Men's Neoprene Life Vest</td>\n",
              "      <td>49.98</td>\n",
              "      <td>2015-03-18 00:00:00+00:00</td>\n",
              "      <td>Second Class</td>\n",
              "      <td>1</td>\n",
              "    </tr>\n",
              "    <tr>\n",
              "      <th>3</th>\n",
              "      <td>TRANSFER</td>\n",
              "      <td>-89.463196</td>\n",
              "      <td>99.15065</td>\n",
              "      <td>17.0</td>\n",
              "      <td>Cleats</td>\n",
              "      <td>Caguas</td>\n",
              "      <td>Puerto Rico</td>\n",
              "      <td>546.5306</td>\n",
              "      <td>Consumer</td>\n",
              "      <td>PR</td>\n",
              "      <td>...</td>\n",
              "      <td>Central America</td>\n",
              "      <td>Santa Ana</td>\n",
              "      <td>PROCESSING</td>\n",
              "      <td>365.0</td>\n",
              "      <td>17.0</td>\n",
              "      <td>Perfect Fitness Perfect Rip Deck</td>\n",
              "      <td>59.99</td>\n",
              "      <td>2017-03-18 00:00:00+00:00</td>\n",
              "      <td>Second Class</td>\n",
              "      <td>0</td>\n",
              "    </tr>\n",
              "    <tr>\n",
              "      <th>4</th>\n",
              "      <td>DEBIT</td>\n",
              "      <td>44.722590</td>\n",
              "      <td>170.97824</td>\n",
              "      <td>48.0</td>\n",
              "      <td>Water Sports</td>\n",
              "      <td>Peabody</td>\n",
              "      <td>EE. UU.</td>\n",
              "      <td>1546.3980</td>\n",
              "      <td>Consumer</td>\n",
              "      <td>CA</td>\n",
              "      <td>...</td>\n",
              "      <td>Central America</td>\n",
              "      <td>Illinois</td>\n",
              "      <td>COMPLETE</td>\n",
              "      <td>1073.0</td>\n",
              "      <td>48.0</td>\n",
              "      <td>Pelican Sunstream 100 Kayak</td>\n",
              "      <td>199.99</td>\n",
              "      <td>2015-03-30 00:00:00+01:00</td>\n",
              "      <td>Standard Class</td>\n",
              "      <td>1</td>\n",
              "    </tr>\n",
              "  </tbody>\n",
              "</table>\n",
              "<p>5 rows × 41 columns</p>\n",
              "</div>\n",
              "    <div class=\"colab-df-buttons\">\n",
              "\n",
              "  <div class=\"colab-df-container\">\n",
              "    <button class=\"colab-df-convert\" onclick=\"convertToInteractive('df-ebbacf88-0ae3-4ac8-bc26-ba7f051be7c9')\"\n",
              "            title=\"Convert this dataframe to an interactive table.\"\n",
              "            style=\"display:none;\">\n",
              "\n",
              "  <svg xmlns=\"http://www.w3.org/2000/svg\" height=\"24px\" viewBox=\"0 -960 960 960\">\n",
              "    <path d=\"M120-120v-720h720v720H120Zm60-500h600v-160H180v160Zm220 220h160v-160H400v160Zm0 220h160v-160H400v160ZM180-400h160v-160H180v160Zm440 0h160v-160H620v160ZM180-180h160v-160H180v160Zm440 0h160v-160H620v160Z\"/>\n",
              "  </svg>\n",
              "    </button>\n",
              "\n",
              "  <style>\n",
              "    .colab-df-container {\n",
              "      display:flex;\n",
              "      gap: 12px;\n",
              "    }\n",
              "\n",
              "    .colab-df-convert {\n",
              "      background-color: #E8F0FE;\n",
              "      border: none;\n",
              "      border-radius: 50%;\n",
              "      cursor: pointer;\n",
              "      display: none;\n",
              "      fill: #1967D2;\n",
              "      height: 32px;\n",
              "      padding: 0 0 0 0;\n",
              "      width: 32px;\n",
              "    }\n",
              "\n",
              "    .colab-df-convert:hover {\n",
              "      background-color: #E2EBFA;\n",
              "      box-shadow: 0px 1px 2px rgba(60, 64, 67, 0.3), 0px 1px 3px 1px rgba(60, 64, 67, 0.15);\n",
              "      fill: #174EA6;\n",
              "    }\n",
              "\n",
              "    .colab-df-buttons div {\n",
              "      margin-bottom: 4px;\n",
              "    }\n",
              "\n",
              "    [theme=dark] .colab-df-convert {\n",
              "      background-color: #3B4455;\n",
              "      fill: #D2E3FC;\n",
              "    }\n",
              "\n",
              "    [theme=dark] .colab-df-convert:hover {\n",
              "      background-color: #434B5C;\n",
              "      box-shadow: 0px 1px 3px 1px rgba(0, 0, 0, 0.15);\n",
              "      filter: drop-shadow(0px 1px 2px rgba(0, 0, 0, 0.3));\n",
              "      fill: #FFFFFF;\n",
              "    }\n",
              "  </style>\n",
              "\n",
              "    <script>\n",
              "      const buttonEl =\n",
              "        document.querySelector('#df-ebbacf88-0ae3-4ac8-bc26-ba7f051be7c9 button.colab-df-convert');\n",
              "      buttonEl.style.display =\n",
              "        google.colab.kernel.accessAllowed ? 'block' : 'none';\n",
              "\n",
              "      async function convertToInteractive(key) {\n",
              "        const element = document.querySelector('#df-ebbacf88-0ae3-4ac8-bc26-ba7f051be7c9');\n",
              "        const dataTable =\n",
              "          await google.colab.kernel.invokeFunction('convertToInteractive',\n",
              "                                                    [key], {});\n",
              "        if (!dataTable) return;\n",
              "\n",
              "        const docLinkHtml = 'Like what you see? Visit the ' +\n",
              "          '<a target=\"_blank\" href=https://colab.research.google.com/notebooks/data_table.ipynb>data table notebook</a>'\n",
              "          + ' to learn more about interactive tables.';\n",
              "        element.innerHTML = '';\n",
              "        dataTable['output_type'] = 'display_data';\n",
              "        await google.colab.output.renderOutput(dataTable, element);\n",
              "        const docLink = document.createElement('div');\n",
              "        docLink.innerHTML = docLinkHtml;\n",
              "        element.appendChild(docLink);\n",
              "      }\n",
              "    </script>\n",
              "  </div>\n",
              "\n",
              "\n",
              "<div id=\"df-c7c368b9-bc52-4194-ac0d-538251e7804b\">\n",
              "  <button class=\"colab-df-quickchart\" onclick=\"quickchart('df-c7c368b9-bc52-4194-ac0d-538251e7804b')\"\n",
              "            title=\"Suggest charts\"\n",
              "            style=\"display:none;\">\n",
              "\n",
              "<svg xmlns=\"http://www.w3.org/2000/svg\" height=\"24px\"viewBox=\"0 0 24 24\"\n",
              "     width=\"24px\">\n",
              "    <g>\n",
              "        <path d=\"M19 3H5c-1.1 0-2 .9-2 2v14c0 1.1.9 2 2 2h14c1.1 0 2-.9 2-2V5c0-1.1-.9-2-2-2zM9 17H7v-7h2v7zm4 0h-2V7h2v10zm4 0h-2v-4h2v4z\"/>\n",
              "    </g>\n",
              "</svg>\n",
              "  </button>\n",
              "\n",
              "<style>\n",
              "  .colab-df-quickchart {\n",
              "      --bg-color: #E8F0FE;\n",
              "      --fill-color: #1967D2;\n",
              "      --hover-bg-color: #E2EBFA;\n",
              "      --hover-fill-color: #174EA6;\n",
              "      --disabled-fill-color: #AAA;\n",
              "      --disabled-bg-color: #DDD;\n",
              "  }\n",
              "\n",
              "  [theme=dark] .colab-df-quickchart {\n",
              "      --bg-color: #3B4455;\n",
              "      --fill-color: #D2E3FC;\n",
              "      --hover-bg-color: #434B5C;\n",
              "      --hover-fill-color: #FFFFFF;\n",
              "      --disabled-bg-color: #3B4455;\n",
              "      --disabled-fill-color: #666;\n",
              "  }\n",
              "\n",
              "  .colab-df-quickchart {\n",
              "    background-color: var(--bg-color);\n",
              "    border: none;\n",
              "    border-radius: 50%;\n",
              "    cursor: pointer;\n",
              "    display: none;\n",
              "    fill: var(--fill-color);\n",
              "    height: 32px;\n",
              "    padding: 0;\n",
              "    width: 32px;\n",
              "  }\n",
              "\n",
              "  .colab-df-quickchart:hover {\n",
              "    background-color: var(--hover-bg-color);\n",
              "    box-shadow: 0 1px 2px rgba(60, 64, 67, 0.3), 0 1px 3px 1px rgba(60, 64, 67, 0.15);\n",
              "    fill: var(--button-hover-fill-color);\n",
              "  }\n",
              "\n",
              "  .colab-df-quickchart-complete:disabled,\n",
              "  .colab-df-quickchart-complete:disabled:hover {\n",
              "    background-color: var(--disabled-bg-color);\n",
              "    fill: var(--disabled-fill-color);\n",
              "    box-shadow: none;\n",
              "  }\n",
              "\n",
              "  .colab-df-spinner {\n",
              "    border: 2px solid var(--fill-color);\n",
              "    border-color: transparent;\n",
              "    border-bottom-color: var(--fill-color);\n",
              "    animation:\n",
              "      spin 1s steps(1) infinite;\n",
              "  }\n",
              "\n",
              "  @keyframes spin {\n",
              "    0% {\n",
              "      border-color: transparent;\n",
              "      border-bottom-color: var(--fill-color);\n",
              "      border-left-color: var(--fill-color);\n",
              "    }\n",
              "    20% {\n",
              "      border-color: transparent;\n",
              "      border-left-color: var(--fill-color);\n",
              "      border-top-color: var(--fill-color);\n",
              "    }\n",
              "    30% {\n",
              "      border-color: transparent;\n",
              "      border-left-color: var(--fill-color);\n",
              "      border-top-color: var(--fill-color);\n",
              "      border-right-color: var(--fill-color);\n",
              "    }\n",
              "    40% {\n",
              "      border-color: transparent;\n",
              "      border-right-color: var(--fill-color);\n",
              "      border-top-color: var(--fill-color);\n",
              "    }\n",
              "    60% {\n",
              "      border-color: transparent;\n",
              "      border-right-color: var(--fill-color);\n",
              "    }\n",
              "    80% {\n",
              "      border-color: transparent;\n",
              "      border-right-color: var(--fill-color);\n",
              "      border-bottom-color: var(--fill-color);\n",
              "    }\n",
              "    90% {\n",
              "      border-color: transparent;\n",
              "      border-bottom-color: var(--fill-color);\n",
              "    }\n",
              "  }\n",
              "</style>\n",
              "\n",
              "  <script>\n",
              "    async function quickchart(key) {\n",
              "      const quickchartButtonEl =\n",
              "        document.querySelector('#' + key + ' button');\n",
              "      quickchartButtonEl.disabled = true;  // To prevent multiple clicks.\n",
              "      quickchartButtonEl.classList.add('colab-df-spinner');\n",
              "      try {\n",
              "        const charts = await google.colab.kernel.invokeFunction(\n",
              "            'suggestCharts', [key], {});\n",
              "      } catch (error) {\n",
              "        console.error('Error during call to suggestCharts:', error);\n",
              "      }\n",
              "      quickchartButtonEl.classList.remove('colab-df-spinner');\n",
              "      quickchartButtonEl.classList.add('colab-df-quickchart-complete');\n",
              "    }\n",
              "    (() => {\n",
              "      let quickchartButtonEl =\n",
              "        document.querySelector('#df-c7c368b9-bc52-4194-ac0d-538251e7804b button');\n",
              "      quickchartButtonEl.style.display =\n",
              "        google.colab.kernel.accessAllowed ? 'block' : 'none';\n",
              "    })();\n",
              "  </script>\n",
              "</div>\n",
              "\n",
              "    </div>\n",
              "  </div>\n"
            ],
            "application/vnd.google.colaboratory.intrinsic+json": {
              "type": "dataframe",
              "variable_name": "df"
            }
          },
          "metadata": {},
          "execution_count": 58
        }
      ]
    },
    {
      "cell_type": "code",
      "source": [
        "df.duplicated().sum()"
      ],
      "metadata": {
        "colab": {
          "base_uri": "https://localhost:8080/"
        },
        "id": "FF6B-v-FfC83",
        "outputId": "9ad9bafb-245e-416f-80ab-246537eda89d"
      },
      "execution_count": null,
      "outputs": [
        {
          "output_type": "execute_result",
          "data": {
            "text/plain": [
              "0"
            ]
          },
          "metadata": {},
          "execution_count": 61
        }
      ]
    },
    {
      "cell_type": "code",
      "source": [
        "df.drop_duplicates(inplace=True)"
      ],
      "metadata": {
        "id": "8V5fVHBmgQkC"
      },
      "execution_count": null,
      "outputs": []
    },
    {
      "cell_type": "code",
      "source": [
        "df.info()"
      ],
      "metadata": {
        "colab": {
          "base_uri": "https://localhost:8080/"
        },
        "id": "lZWxsVnCgcxe",
        "outputId": "b3c3d4d7-6354-4312-ef79-d046aee50f0a"
      },
      "execution_count": null,
      "outputs": [
        {
          "output_type": "stream",
          "name": "stdout",
          "text": [
            "<class 'pandas.core.frame.DataFrame'>\n",
            "RangeIndex: 15549 entries, 0 to 15548\n",
            "Data columns (total 41 columns):\n",
            " #   Column                    Non-Null Count  Dtype  \n",
            "---  ------                    --------------  -----  \n",
            " 0   payment_type              15549 non-null  object \n",
            " 1   profit_per_order          15549 non-null  float64\n",
            " 2   sales_per_customer        15549 non-null  float64\n",
            " 3   category_id               15549 non-null  float64\n",
            " 4   category_name             15549 non-null  object \n",
            " 5   customer_city             15549 non-null  object \n",
            " 6   customer_country          15549 non-null  object \n",
            " 7   customer_id               15549 non-null  float64\n",
            " 8   customer_segment          15549 non-null  object \n",
            " 9   customer_state            15549 non-null  object \n",
            " 10  customer_zipcode          15549 non-null  float64\n",
            " 11  department_id             15549 non-null  float64\n",
            " 12  department_name           15549 non-null  object \n",
            " 13  latitude                  15549 non-null  float64\n",
            " 14  longitude                 15549 non-null  float64\n",
            " 15  market                    15549 non-null  object \n",
            " 16  order_city                15549 non-null  object \n",
            " 17  order_country             15549 non-null  object \n",
            " 18  order_customer_id         15549 non-null  float64\n",
            " 19  order_date                15549 non-null  object \n",
            " 20  order_id                  15549 non-null  float64\n",
            " 21  order_item_cardprod_id    15549 non-null  float64\n",
            " 22  order_item_discount       15549 non-null  float64\n",
            " 23  order_item_discount_rate  15549 non-null  float64\n",
            " 24  order_item_id             15549 non-null  float64\n",
            " 25  order_item_product_price  15549 non-null  float64\n",
            " 26  order_item_profit_ratio   15549 non-null  float64\n",
            " 27  order_item_quantity       15549 non-null  float64\n",
            " 28  sales                     15549 non-null  float64\n",
            " 29  order_item_total_amount   15549 non-null  float64\n",
            " 30  order_profit_per_order    15549 non-null  float64\n",
            " 31  order_region              15549 non-null  object \n",
            " 32  order_state               15549 non-null  object \n",
            " 33  order_status              15549 non-null  object \n",
            " 34  product_card_id           15549 non-null  float64\n",
            " 35  product_category_id       15549 non-null  float64\n",
            " 36  product_name              15549 non-null  object \n",
            " 37  product_price             15549 non-null  float64\n",
            " 38  shipping_date             15549 non-null  object \n",
            " 39  shipping_mode             15549 non-null  object \n",
            " 40  label                     15549 non-null  int64  \n",
            "dtypes: float64(23), int64(1), object(17)\n",
            "memory usage: 4.9+ MB\n"
          ]
        }
      ]
    },
    {
      "cell_type": "code",
      "source": [
        "df['label'] = df['label'].astype('Int64')"
      ],
      "metadata": {
        "id": "P66-AcsIguvz"
      },
      "execution_count": null,
      "outputs": []
    },
    {
      "cell_type": "code",
      "source": [
        "df['label'].info()"
      ],
      "metadata": {
        "colab": {
          "base_uri": "https://localhost:8080/"
        },
        "id": "w0bLjzYBi96t",
        "outputId": "28812c3a-52e9-4e04-ebe7-0c217593ba6d"
      },
      "execution_count": null,
      "outputs": [
        {
          "output_type": "stream",
          "name": "stdout",
          "text": [
            "<class 'pandas.core.series.Series'>\n",
            "RangeIndex: 15549 entries, 0 to 15548\n",
            "Series name: label\n",
            "Non-Null Count  Dtype\n",
            "--------------  -----\n",
            "15549 non-null  Int64\n",
            "dtypes: Int64(1)\n",
            "memory usage: 136.8 KB\n"
          ]
        }
      ]
    },
    {
      "cell_type": "code",
      "source": [
        "df['label'].head()"
      ],
      "metadata": {
        "colab": {
          "base_uri": "https://localhost:8080/",
          "height": 241
        },
        "id": "HBNFdZFxjzkp",
        "outputId": "3b73297e-e60a-4532-e2a2-4efba75ae1ba"
      },
      "execution_count": null,
      "outputs": [
        {
          "output_type": "execute_result",
          "data": {
            "text/plain": [
              "0    -1\n",
              "1    -1\n",
              "2     1\n",
              "3     0\n",
              "4     1\n",
              "Name: label, dtype: Int64"
            ],
            "text/html": [
              "<div>\n",
              "<style scoped>\n",
              "    .dataframe tbody tr th:only-of-type {\n",
              "        vertical-align: middle;\n",
              "    }\n",
              "\n",
              "    .dataframe tbody tr th {\n",
              "        vertical-align: top;\n",
              "    }\n",
              "\n",
              "    .dataframe thead th {\n",
              "        text-align: right;\n",
              "    }\n",
              "</style>\n",
              "<table border=\"1\" class=\"dataframe\">\n",
              "  <thead>\n",
              "    <tr style=\"text-align: right;\">\n",
              "      <th></th>\n",
              "      <th>label</th>\n",
              "    </tr>\n",
              "  </thead>\n",
              "  <tbody>\n",
              "    <tr>\n",
              "      <th>0</th>\n",
              "      <td>-1</td>\n",
              "    </tr>\n",
              "    <tr>\n",
              "      <th>1</th>\n",
              "      <td>-1</td>\n",
              "    </tr>\n",
              "    <tr>\n",
              "      <th>2</th>\n",
              "      <td>1</td>\n",
              "    </tr>\n",
              "    <tr>\n",
              "      <th>3</th>\n",
              "      <td>0</td>\n",
              "    </tr>\n",
              "    <tr>\n",
              "      <th>4</th>\n",
              "      <td>1</td>\n",
              "    </tr>\n",
              "  </tbody>\n",
              "</table>\n",
              "</div><br><label><b>dtype:</b> Int64</label>"
            ]
          },
          "metadata": {},
          "execution_count": 77
        }
      ]
    },
    {
      "cell_type": "code",
      "source": [
        "df['product_price']=pd.to_numeric(df['product_price'],errors='coerce').astype('float64')"
      ],
      "metadata": {
        "id": "9-cS-TVClSne"
      },
      "execution_count": null,
      "outputs": []
    },
    {
      "cell_type": "code",
      "source": [
        "df['product_price'].info()"
      ],
      "metadata": {
        "colab": {
          "base_uri": "https://localhost:8080/"
        },
        "id": "fHbKPX-hm0yA",
        "outputId": "b79d8e1e-96b0-4fd2-845f-2a781fffacab"
      },
      "execution_count": null,
      "outputs": [
        {
          "output_type": "stream",
          "name": "stdout",
          "text": [
            "<class 'pandas.core.series.Series'>\n",
            "RangeIndex: 15549 entries, 0 to 15548\n",
            "Series name: product_price\n",
            "Non-Null Count  Dtype  \n",
            "--------------  -----  \n",
            "15549 non-null  float64\n",
            "dtypes: float64(1)\n",
            "memory usage: 121.6 KB\n"
          ]
        }
      ]
    },
    {
      "cell_type": "code",
      "source": [
        "df['sales']=pd.to_datetime(df['sales'],errors='coerce')"
      ],
      "metadata": {
        "id": "gdQXJzdinEfl"
      },
      "execution_count": null,
      "outputs": []
    },
    {
      "cell_type": "code",
      "source": [
        "df['sales'].info()"
      ],
      "metadata": {
        "colab": {
          "base_uri": "https://localhost:8080/"
        },
        "id": "IwyxGHmvnmOi",
        "outputId": "1396da85-d7eb-4b00-b8fb-1cfec4d73406"
      },
      "execution_count": null,
      "outputs": [
        {
          "output_type": "stream",
          "name": "stdout",
          "text": [
            "<class 'pandas.core.series.Series'>\n",
            "RangeIndex: 15549 entries, 0 to 15548\n",
            "Series name: sales\n",
            "Non-Null Count  Dtype         \n",
            "--------------  -----         \n",
            "15549 non-null  datetime64[ns]\n",
            "dtypes: datetime64[ns](1)\n",
            "memory usage: 121.6 KB\n"
          ]
        }
      ]
    },
    {
      "cell_type": "code",
      "source": [
        "df['order_city'].info()"
      ],
      "metadata": {
        "colab": {
          "base_uri": "https://localhost:8080/"
        },
        "id": "QaVYsP9Bn1Wv",
        "outputId": "028197df-3a5c-4621-d83d-6116fa36f753"
      },
      "execution_count": null,
      "outputs": [
        {
          "output_type": "stream",
          "name": "stdout",
          "text": [
            "<class 'pandas.core.series.Series'>\n",
            "RangeIndex: 15549 entries, 0 to 15548\n",
            "Series name: order_city\n",
            "Non-Null Count  Dtype \n",
            "--------------  ----- \n",
            "15549 non-null  object\n",
            "dtypes: object(1)\n",
            "memory usage: 121.6+ KB\n"
          ]
        }
      ]
    },
    {
      "cell_type": "code",
      "source": [
        "df['order_city'] = df['order_item_product_price'] + df['product_price']"
      ],
      "metadata": {
        "id": "fdEW823pn_SG"
      },
      "execution_count": null,
      "outputs": []
    },
    {
      "cell_type": "code",
      "source": [
        "df['order_city']"
      ],
      "metadata": {
        "colab": {
          "base_uri": "https://localhost:8080/",
          "height": 458
        },
        "id": "XBo2a2krrO-C",
        "outputId": "84322844-353b-4bc5-a3a1-630b57bb7248"
      },
      "execution_count": null,
      "outputs": [
        {
          "output_type": "execute_result",
          "data": {
            "text/plain": [
              "0        199.980000\n",
              "1        399.980000\n",
              "2         99.960000\n",
              "3        119.980000\n",
              "4        399.980000\n",
              "            ...    \n",
              "15544    799.960000\n",
              "15545     99.960000\n",
              "15546     59.999937\n",
              "15547    119.980000\n",
              "15548    199.980000\n",
              "Name: order_city, Length: 15549, dtype: float64"
            ],
            "text/html": [
              "<div>\n",
              "<style scoped>\n",
              "    .dataframe tbody tr th:only-of-type {\n",
              "        vertical-align: middle;\n",
              "    }\n",
              "\n",
              "    .dataframe tbody tr th {\n",
              "        vertical-align: top;\n",
              "    }\n",
              "\n",
              "    .dataframe thead th {\n",
              "        text-align: right;\n",
              "    }\n",
              "</style>\n",
              "<table border=\"1\" class=\"dataframe\">\n",
              "  <thead>\n",
              "    <tr style=\"text-align: right;\">\n",
              "      <th></th>\n",
              "      <th>order_city</th>\n",
              "    </tr>\n",
              "  </thead>\n",
              "  <tbody>\n",
              "    <tr>\n",
              "      <th>0</th>\n",
              "      <td>199.980000</td>\n",
              "    </tr>\n",
              "    <tr>\n",
              "      <th>1</th>\n",
              "      <td>399.980000</td>\n",
              "    </tr>\n",
              "    <tr>\n",
              "      <th>2</th>\n",
              "      <td>99.960000</td>\n",
              "    </tr>\n",
              "    <tr>\n",
              "      <th>3</th>\n",
              "      <td>119.980000</td>\n",
              "    </tr>\n",
              "    <tr>\n",
              "      <th>4</th>\n",
              "      <td>399.980000</td>\n",
              "    </tr>\n",
              "    <tr>\n",
              "      <th>...</th>\n",
              "      <td>...</td>\n",
              "    </tr>\n",
              "    <tr>\n",
              "      <th>15544</th>\n",
              "      <td>799.960000</td>\n",
              "    </tr>\n",
              "    <tr>\n",
              "      <th>15545</th>\n",
              "      <td>99.960000</td>\n",
              "    </tr>\n",
              "    <tr>\n",
              "      <th>15546</th>\n",
              "      <td>59.999937</td>\n",
              "    </tr>\n",
              "    <tr>\n",
              "      <th>15547</th>\n",
              "      <td>119.980000</td>\n",
              "    </tr>\n",
              "    <tr>\n",
              "      <th>15548</th>\n",
              "      <td>199.980000</td>\n",
              "    </tr>\n",
              "  </tbody>\n",
              "</table>\n",
              "<p>15549 rows × 1 columns</p>\n",
              "</div><br><label><b>dtype:</b> float64</label>"
            ]
          },
          "metadata": {},
          "execution_count": 93
        }
      ]
    }
  ]
}